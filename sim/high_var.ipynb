{
 "cells": [
  {
   "cell_type": "code",
   "execution_count": 1,
   "metadata": {},
   "outputs": [],
   "source": [
    "%matplotlib inline\n",
    "import numpy as np\n",
    "import matplotlib.pyplot as plt\n",
    "from tqdm import tnrange"
   ]
  },
  {
   "cell_type": "code",
   "execution_count": 2,
   "metadata": {},
   "outputs": [],
   "source": [
    "mean = 1.1\n",
    "variance = 100\n",
    "\n",
    "def play(n=10):\n",
    "    sd = np.sqrt(variance)\n",
    "    return np.random.normal(mean, sd, size=n)"
   ]
  },
  {
   "cell_type": "code",
   "execution_count": 3,
   "metadata": {},
   "outputs": [
    {
     "data": {
      "application/vnd.jupyter.widget-view+json": {
       "model_id": "14fcdb8c5d1c4120bacdd38beb008eeb",
       "version_major": 2,
       "version_minor": 0
      },
      "text/plain": [
       "HBox(children=(IntProgress(value=0, max=10000), HTML(value='')))"
      ]
     },
     "metadata": {},
     "output_type": "display_data"
    },
    {
     "name": "stdout",
     "output_type": "stream",
     "text": [
      "\n"
     ]
    }
   ],
   "source": [
    "np.random.seed(0)\n",
    "rounds = 10_000\n",
    "\n",
    "total_rewards = []\n",
    "for i in tnrange(rounds):\n",
    "    reward = np.sum(play())\n",
    "    total_rewards.append(reward)"
   ]
  },
  {
   "cell_type": "code",
   "execution_count": 4,
   "metadata": {},
   "outputs": [
    {
     "data": {
      "image/png": "[encoded data removed]",
      "text/plain": [
       "<Figure size 1440x720 with 2 Axes>"
      ]
     },
     "metadata": {
      "needs_background": "light"
     },
     "output_type": "display_data"
    }
   ],
   "source": [
    "fig, ax_1 = plt.subplots()\n",
    "ax_2 = ax_1.twinx()\n",
    "\n",
    "ax_1.axvline(1.1, linewidth=5, color='r', label='mean')\n",
    "ax_1.hist(total_rewards, bins=100, alpha=0.7, color='g', label='10,000 games')\n",
    "ax_2.hist(total_rewards[:30], bins=30, alpha=0.7, color='b', label='30 games')\n",
    "\n",
    "# ax_1.set_title('Histogram of rewards gotten over n games')\n",
    "\n",
    "fig.set_size_inches(20, 10)\n",
    "fig.legend();"
   ]
  },
  {
   "cell_type": "code",
   "execution_count": 5,
   "metadata": {},
   "outputs": [
    {
     "data": {
      "image/png": "[encoded data removed]",
      "text/plain": [
       "<Figure size 576x576 with 1 Axes>"
      ]
     },
     "metadata": {
      "needs_background": "light"
     },
     "output_type": "display_data"
    }
   ],
   "source": [
    "plt.figure(figsize=(8, 8))\n",
    "# plt.title('Boxplot of rewards obtained over n games')\n",
    "plt.boxplot([total_rewards[:30], total_rewards])\n",
    "plt.xticks([1, 2], ['30 games', '10,000 games']);"
   ]
  }
 ],
 "metadata": {
  "kernelspec": {
   "display_name": "Python 3",
   "language": "python",
   "name": "python3"
  },
  "language_info": {
   "codemirror_mode": {
    "name": "ipython",
    "version": 3
   },
   "file_extension": ".py",
   "mimetype": "text/x-python",
   "name": "python",
   "nbconvert_exporter": "python",
   "pygments_lexer": "ipython3",
   "version": "3.6.7"
  },
  "widgets": {
   "application/vnd.jupyter.widget-state+json": {
    "state": {
     "00e4a7a973ba4defb95aad007e1faa1d": {
      "model_module": "@jupyter-widgets/base",
      "model_module_version": "1.1.0",
      "model_name": "LayoutModel",
      "state": {}
     },
     "04273086db274b4f8a0bc5c3926996de": {
      "model_module": "@jupyter-widgets/controls",
      "model_module_version": "1.4.0",
      "model_name": "DescriptionStyleModel",
      "state": {
       "description_width": ""
      }
     },
     "0747e44fa868456c9f683747c4990b82": {
      "model_module": "@jupyter-widgets/controls",
      "model_module_version": "1.4.0",
      "model_name": "DescriptionStyleModel",
      "state": {
       "description_width": ""
      }
     },
     "0d3f22d5c78140d58e3717461855dc22": {
      "model_module": "@jupyter-widgets/controls",
      "model_module_version": "1.4.0",
      "model_name": "ProgressStyleModel",
      "state": {
       "description_width": ""
      }
     },
     "0e1effec6a914027a5e34f1c9c1da64a": {
      "model_module": "@jupyter-widgets/controls",
      "model_module_version": "1.4.0",
      "model_name": "ProgressStyleModel",
      "state": {
       "description_width": ""
      }
     },
     "1d1aa1375d6949c990f64c1a79938912": {
      "model_module": "@jupyter-widgets/base",
      "model_module_version": "1.1.0",
      "model_name": "LayoutModel",
      "state": {}
     },
     "1d5bc68d20974156be3dbaaeac2485b8": {
      "model_module": "@jupyter-widgets/controls",
      "model_module_version": "1.4.0",
      "model_name": "IntProgressModel",
      "state": {
       "bar_style": "success",
       "layout": "IPY_MODEL_d000e51883854830a52516e7779d1d6b",
       "max": 100000,
       "style": "IPY_MODEL_a1dea971419a400eb9b6491d53ca85ad",
       "value": 100000
      }
     },
     "21a6adf09653456bb0359024d7e2d01e": {
      "model_module": "@jupyter-widgets/base",
      "model_module_version": "1.1.0",
      "model_name": "LayoutModel",
      "state": {}
     },
     "269ce77f25b8423d88a6c9fb5c1e8ca2": {
      "model_module": "@jupyter-widgets/controls",
      "model_module_version": "1.4.0",
      "model_name": "HTMLModel",
      "state": {
       "layout": "IPY_MODEL_8a9795c88f284f42a89a9347fcbed3ee",
       "style": "IPY_MODEL_3582c387980b4898bddee715ed3aa438",
       "value": "100% 100000/100000 [00:01&lt;00:00, 95177.46it/s]"
      }
     },
     "2bec17842fe140608341d9f137f4879f": {
      "model_module": "@jupyter-widgets/controls",
      "model_module_version": "1.4.0",
      "model_name": "IntProgressModel",
      "state": {
       "bar_style": "success",
       "layout": "IPY_MODEL_b276640cc31e46cd95923f6781161121",
       "max": 10000,
       "style": "IPY_MODEL_0e1effec6a914027a5e34f1c9c1da64a",
       "value": 10000
      }
     },
     "3582c387980b4898bddee715ed3aa438": {
      "model_module": "@jupyter-widgets/controls",
      "model_module_version": "1.4.0",
      "model_name": "DescriptionStyleModel",
      "state": {
       "description_width": ""
      }
     },
     "37c151a403a1412db4893dd8d81ecf51": {
      "model_module": "@jupyter-widgets/controls",
      "model_module_version": "1.4.0",
      "model_name": "IntProgressModel",
      "state": {
       "bar_style": "success",
       "layout": "IPY_MODEL_7df9113517e74bb390fe7959a1e03ffa",
       "max": 100000,
       "style": "IPY_MODEL_db4c760006464691ac000bd95c07e157",
       "value": 100000
      }
     },
     "38cb39329bcc49c5b83edbeacb0c1585": {
      "model_module": "@jupyter-widgets/controls",
      "model_module_version": "1.4.0",
      "model_name": "DescriptionStyleModel",
      "state": {
       "description_width": ""
      }
     },
     "3c711e846ae14c0cadb920e84e5f9d96": {
      "model_module": "@jupyter-widgets/controls",
      "model_module_version": "1.4.0",
      "model_name": "HBoxModel",
      "state": {
       "children": [
        "IPY_MODEL_5e681423ea9c45739c68f2ef6f03a7b4",
        "IPY_MODEL_9764a4e3d02046efa28b4784d6e8bffa"
       ],
       "layout": "IPY_MODEL_00e4a7a973ba4defb95aad007e1faa1d"
      }
     },
     "3d89477389ef4a6aa2dd48360673e434": {
      "model_module": "@jupyter-widgets/base",
      "model_module_version": "1.1.0",
      "model_name": "LayoutModel",
      "state": {}
     },
     "41ce633d56624d6b8544221e3d3b0f6c": {
      "model_module": "@jupyter-widgets/base",
      "model_module_version": "1.1.0",
      "model_name": "LayoutModel",
      "state": {}
     },
     "44eb35f9eea74360bfe2482063011c01": {
      "model_module": "@jupyter-widgets/controls",
      "model_module_version": "1.4.0",
      "model_name": "ProgressStyleModel",
      "state": {
       "description_width": ""
      }
     },
     "4625ffc37c96452d89759978cbaadd50": {
      "model_module": "@jupyter-widgets/base",
      "model_module_version": "1.1.0",
      "model_name": "LayoutModel",
      "state": {}
     },
     "4f3e236a2c8a460cb8d74d9a7f6f9ec7": {
      "model_module": "@jupyter-widgets/controls",
      "model_module_version": "1.4.0",
      "model_name": "HTMLModel",
      "state": {
       "layout": "IPY_MODEL_21a6adf09653456bb0359024d7e2d01e",
       "style": "IPY_MODEL_d31a8296aaa849ed99c4e358348317d4",
       "value": "100% 100000/100000 [00:01&lt;00:00, 87272.82it/s]"
      }
     },
     "50e7fd7a8b744ddeb0756d16a95b7421": {
      "model_module": "@jupyter-widgets/base",
      "model_module_version": "1.1.0",
      "model_name": "LayoutModel",
      "state": {}
     },
     "5e0d6bc7e2ca46dba9fc66a9b8580559": {
      "model_module": "@jupyter-widgets/base",
      "model_module_version": "1.1.0",
      "model_name": "LayoutModel",
      "state": {}
     },
     "5e681423ea9c45739c68f2ef6f03a7b4": {
      "model_module": "@jupyter-widgets/controls",
      "model_module_version": "1.4.0",
      "model_name": "IntProgressModel",
      "state": {
       "bar_style": "success",
       "layout": "IPY_MODEL_cb7a321229c54ba389436416b347c636",
       "max": 100000,
       "style": "IPY_MODEL_44eb35f9eea74360bfe2482063011c01",
       "value": 100000
      }
     },
     "6f3ee7618e1349a183fcaa63f5b33071": {
      "model_module": "@jupyter-widgets/base",
      "model_module_version": "1.1.0",
      "model_name": "LayoutModel",
      "state": {}
     },
     "7df9113517e74bb390fe7959a1e03ffa": {
      "model_module": "@jupyter-widgets/base",
      "model_module_version": "1.1.0",
      "model_name": "LayoutModel",
      "state": {}
     },
     "810cb238681c463e9598f66ba87b6f95": {
      "model_module": "@jupyter-widgets/controls",
      "model_module_version": "1.4.0",
      "model_name": "DescriptionStyleModel",
      "state": {
       "description_width": ""
      }
     },
     "8a9795c88f284f42a89a9347fcbed3ee": {
      "model_module": "@jupyter-widgets/base",
      "model_module_version": "1.1.0",
      "model_name": "LayoutModel",
      "state": {}
     },
     "91c6bd202ef5442f807b070b26b0506e": {
      "model_module": "@jupyter-widgets/controls",
      "model_module_version": "1.4.0",
      "model_name": "HTMLModel",
      "state": {
       "layout": "IPY_MODEL_3d89477389ef4a6aa2dd48360673e434",
       "style": "IPY_MODEL_0747e44fa868456c9f683747c4990b82",
       "value": "100% 10000/10000 [00:00&lt;00:00, 75253.19it/s]"
      }
     },
     "9764a4e3d02046efa28b4784d6e8bffa": {
      "model_module": "@jupyter-widgets/controls",
      "model_module_version": "1.4.0",
      "model_name": "HTMLModel",
      "state": {
       "layout": "IPY_MODEL_1d1aa1375d6949c990f64c1a79938912",
       "style": "IPY_MODEL_810cb238681c463e9598f66ba87b6f95",
       "value": "100% 100000/100000 [00:01&lt;00:00, 84484.99it/s]"
      }
     },
     "9e444a8a668d4090a07d32146aa16746": {
      "model_module": "@jupyter-widgets/base",
      "model_module_version": "1.1.0",
      "model_name": "LayoutModel",
      "state": {}
     },
     "a1dea971419a400eb9b6491d53ca85ad": {
      "model_module": "@jupyter-widgets/controls",
      "model_module_version": "1.4.0",
      "model_name": "ProgressStyleModel",
      "state": {
       "description_width": ""
      }
     },
     "ad61aca4e2b8439e88bf3a845545a4c6": {
      "model_module": "@jupyter-widgets/controls",
      "model_module_version": "1.4.0",
      "model_name": "HBoxModel",
      "state": {
       "children": [
        "IPY_MODEL_37c151a403a1412db4893dd8d81ecf51",
        "IPY_MODEL_4f3e236a2c8a460cb8d74d9a7f6f9ec7"
       ],
       "layout": "IPY_MODEL_f09af17177be44718f2e85a91418163f"
      }
     },
     "b0af53ceeaa9453d8f4befabacab1c4e": {
      "model_module": "@jupyter-widgets/base",
      "model_module_version": "1.1.0",
      "model_name": "LayoutModel",
      "state": {}
     },
     "b276640cc31e46cd95923f6781161121": {
      "model_module": "@jupyter-widgets/base",
      "model_module_version": "1.1.0",
      "model_name": "LayoutModel",
      "state": {}
     },
     "b3c5ad95180047589f940984bd025918": {
      "model_module": "@jupyter-widgets/controls",
      "model_module_version": "1.4.0",
      "model_name": "HBoxModel",
      "state": {
       "children": [
        "IPY_MODEL_2bec17842fe140608341d9f137f4879f",
        "IPY_MODEL_bb76c84c0b8d460ca3bccc998c76e656"
       ],
       "layout": "IPY_MODEL_4625ffc37c96452d89759978cbaadd50"
      }
     },
     "b3f3f3f6392e40449452d2c5cf9c838b": {
      "model_module": "@jupyter-widgets/controls",
      "model_module_version": "1.4.0",
      "model_name": "HBoxModel",
      "state": {
       "children": [
        "IPY_MODEL_1d5bc68d20974156be3dbaaeac2485b8",
        "IPY_MODEL_269ce77f25b8423d88a6c9fb5c1e8ca2"
       ],
       "layout": "IPY_MODEL_9e444a8a668d4090a07d32146aa16746"
      }
     },
     "b3fae4684eb747228fee0bc63b4fbce6": {
      "model_module": "@jupyter-widgets/controls",
      "model_module_version": "1.4.0",
      "model_name": "HTMLModel",
      "state": {
       "layout": "IPY_MODEL_c705b5050c0344ecac9952972965da07",
       "style": "IPY_MODEL_38cb39329bcc49c5b83edbeacb0c1585",
       "value": "100% 10000/10000 [00:00&lt;00:00, 77347.86it/s]"
      }
     },
     "bb76c84c0b8d460ca3bccc998c76e656": {
      "model_module": "@jupyter-widgets/controls",
      "model_module_version": "1.4.0",
      "model_name": "HTMLModel",
      "state": {
       "layout": "IPY_MODEL_b0af53ceeaa9453d8f4befabacab1c4e",
       "style": "IPY_MODEL_04273086db274b4f8a0bc5c3926996de",
       "value": "100% 10000/10000 [00:00&lt;00:00, 78537.22it/s]"
      }
     },
     "c2658ce576084990bf895ef3136f11aa": {
      "model_module": "@jupyter-widgets/controls",
      "model_module_version": "1.4.0",
      "model_name": "HBoxModel",
      "state": {
       "children": [
        "IPY_MODEL_fecdc3047969452ab08df917d6bd7838",
        "IPY_MODEL_91c6bd202ef5442f807b070b26b0506e"
       ],
       "layout": "IPY_MODEL_6f3ee7618e1349a183fcaa63f5b33071"
      }
     },
     "c705b5050c0344ecac9952972965da07": {
      "model_module": "@jupyter-widgets/base",
      "model_module_version": "1.1.0",
      "model_name": "LayoutModel",
      "state": {}
     },
     "cb7a321229c54ba389436416b347c636": {
      "model_module": "@jupyter-widgets/base",
      "model_module_version": "1.1.0",
      "model_name": "LayoutModel",
      "state": {}
     },
     "cfee1741778b4fda8bf2cc2582f38bb9": {
      "model_module": "@jupyter-widgets/controls",
      "model_module_version": "1.4.0",
      "model_name": "ProgressStyleModel",
      "state": {
       "description_width": ""
      }
     },
     "d000e51883854830a52516e7779d1d6b": {
      "model_module": "@jupyter-widgets/base",
      "model_module_version": "1.1.0",
      "model_name": "LayoutModel",
      "state": {}
     },
     "d31a8296aaa849ed99c4e358348317d4": {
      "model_module": "@jupyter-widgets/controls",
      "model_module_version": "1.4.0",
      "model_name": "DescriptionStyleModel",
      "state": {
       "description_width": ""
      }
     },
     "db4c760006464691ac000bd95c07e157": {
      "model_module": "@jupyter-widgets/controls",
      "model_module_version": "1.4.0",
      "model_name": "ProgressStyleModel",
      "state": {
       "description_width": ""
      }
     },
     "ebaf209e14884225bf4544e59c8b2a20": {
      "model_module": "@jupyter-widgets/controls",
      "model_module_version": "1.4.0",
      "model_name": "IntProgressModel",
      "state": {
       "bar_style": "success",
       "layout": "IPY_MODEL_5e0d6bc7e2ca46dba9fc66a9b8580559",
       "max": 10000,
       "style": "IPY_MODEL_cfee1741778b4fda8bf2cc2582f38bb9",
       "value": 10000
      }
     },
     "f01e255040ee4ed1bb30a9a4042562b7": {
      "model_module": "@jupyter-widgets/controls",
      "model_module_version": "1.4.0",
      "model_name": "HBoxModel",
      "state": {
       "children": [
        "IPY_MODEL_ebaf209e14884225bf4544e59c8b2a20",
        "IPY_MODEL_b3fae4684eb747228fee0bc63b4fbce6"
       ],
       "layout": "IPY_MODEL_41ce633d56624d6b8544221e3d3b0f6c"
      }
     },
     "f09af17177be44718f2e85a91418163f": {
      "model_module": "@jupyter-widgets/base",
      "model_module_version": "1.1.0",
      "model_name": "LayoutModel",
      "state": {}
     },
     "fecdc3047969452ab08df917d6bd7838": {
      "model_module": "@jupyter-widgets/controls",
      "model_module_version": "1.4.0",
      "model_name": "IntProgressModel",
      "state": {
       "bar_style": "success",
       "layout": "IPY_MODEL_50e7fd7a8b744ddeb0756d16a95b7421",
       "max": 10000,
       "style": "IPY_MODEL_0d3f22d5c78140d58e3717461855dc22",
       "value": 10000
      }
     }
    },
    "version_major": 2,
    "version_minor": 0
   }
  }
 },
 "nbformat": 4,
 "nbformat_minor": 2
}
